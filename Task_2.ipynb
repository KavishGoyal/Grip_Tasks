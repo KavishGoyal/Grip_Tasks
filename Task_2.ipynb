{
 "cells": [
  {
   "cell_type": "markdown",
   "metadata": {},
   "source": [
    "## **Task-2: Supervised Machine Learning with Python and Scikit Learn**\n",
    "Supervised Machine Learning is one of types of Machine Learning Algorithams in which we have labeled data i.e. we have the output labels,based on these output labels we try to predict the output for unknown inputs.\n",
    "\n",
    "We deal with two kind of problems in supervised learning 1)Regression and 2)Classification.\n",
    "\n",
    "In Regression problems, we have the continous values as output while in classification, we have classes as our output('good' or 'bad' etc).\n",
    "\n",
    "There are many supervised regression as well as classification algorithams out there.\n",
    "\n",
    "Here,in this section we are going to see how linear regression algorithm works in regression problem using scikit_learn library for Machine Learning.\n",
    "\n",
    "## Linear Regression ##\n",
    "Our task is to visualise the relationship between hours fo study and percentage scores obtained.And then to predict the score where study hour is 93.5 hour.This is a simple linear regression task with two variables.\n",
    "linear regression uses the equation: Y=MX+C, where x is our feature and y is our target variable."
   ]
  },
  {
   "cell_type": "code",
   "execution_count": 6,
   "metadata": {},
   "outputs": [],
   "source": [
    "## importing libraries\n",
    "import pandas as pd\n",
    "import numpy as np\n",
    "import matplotlib.pyplot as plt\n",
    "%matplotlib inline\n",
    "import seaborn as sns"
   ]
  },
  {
   "cell_type": "code",
   "execution_count": 7,
   "metadata": {},
   "outputs": [
    {
     "name": "stdout",
     "output_type": "stream",
     "text": [
      "Importing data\n"
     ]
    }
   ],
   "source": [
    "df = pd.read_csv('Hours_Scores.csv')\n",
    "print('Importing data')"
   ]
  },
  {
   "cell_type": "code",
   "execution_count": 5,
   "metadata": {},
   "outputs": [
    {
     "data": {
      "text/html": [
       "<div>\n",
       "<style scoped>\n",
       "    .dataframe tbody tr th:only-of-type {\n",
       "        vertical-align: middle;\n",
       "    }\n",
       "\n",
       "    .dataframe tbody tr th {\n",
       "        vertical-align: top;\n",
       "    }\n",
       "\n",
       "    .dataframe thead th {\n",
       "        text-align: right;\n",
       "    }\n",
       "</style>\n",
       "<table border=\"1\" class=\"dataframe\">\n",
       "  <thead>\n",
       "    <tr style=\"text-align: right;\">\n",
       "      <th></th>\n",
       "      <th>Hours</th>\n",
       "      <th>Scores</th>\n",
       "    </tr>\n",
       "  </thead>\n",
       "  <tbody>\n",
       "    <tr>\n",
       "      <th>0</th>\n",
       "      <td>2.5</td>\n",
       "      <td>21</td>\n",
       "    </tr>\n",
       "    <tr>\n",
       "      <th>1</th>\n",
       "      <td>5.1</td>\n",
       "      <td>47</td>\n",
       "    </tr>\n",
       "    <tr>\n",
       "      <th>2</th>\n",
       "      <td>3.2</td>\n",
       "      <td>27</td>\n",
       "    </tr>\n",
       "    <tr>\n",
       "      <th>3</th>\n",
       "      <td>8.5</td>\n",
       "      <td>75</td>\n",
       "    </tr>\n",
       "    <tr>\n",
       "      <th>4</th>\n",
       "      <td>3.5</td>\n",
       "      <td>30</td>\n",
       "    </tr>\n",
       "  </tbody>\n",
       "</table>\n",
       "</div>"
      ],
      "text/plain": [
       "   Hours  Scores\n",
       "0    2.5      21\n",
       "1    5.1      47\n",
       "2    3.2      27\n",
       "3    8.5      75\n",
       "4    3.5      30"
      ]
     },
     "execution_count": 5,
     "metadata": {},
     "output_type": "execute_result"
    }
   ],
   "source": [
    "## taking a glance at data\n",
    "df.head()"
   ]
  },
  {
   "cell_type": "code",
   "execution_count": 21,
   "metadata": {},
   "outputs": [
    {
     "data": {
      "text/plain": [
       "(25, 2)"
      ]
     },
     "execution_count": 21,
     "metadata": {},
     "output_type": "execute_result"
    }
   ],
   "source": [
    "## checking the shape\n",
    "df.shape"
   ]
  },
  {
   "cell_type": "code",
   "execution_count": 27,
   "metadata": {},
   "outputs": [
    {
     "data": {
      "image/png": "[encoded data removed]",
      "text/plain": [
       "<Figure size 432x288 with 1 Axes>"
      ]
     },
     "metadata": {
      "needs_background": "light"
     },
     "output_type": "display_data"
    }
   ],
   "source": [
    "# Plotting the distribution of scores with respect to hours\n",
    "df.plot(x='Hours', y='Scores', style='o')  \n",
    "plt.title('Hours vs Percentage_Scores')  \n",
    "plt.xlabel('No. of Hours Studied')  \n",
    "plt.ylabel('Percentage Score')  \n",
    "plt.show()"
   ]
  },
  {
   "cell_type": "code",
   "execution_count": 10,
   "metadata": {},
   "outputs": [
    {
     "data": {
      "text/plain": [
       "<seaborn.axisgrid.PairGrid at 0x7f4ac0a99b50>"
      ]
     },
     "execution_count": 10,
     "metadata": {},
     "output_type": "execute_result"
    },
    {
     "data": {
      "image/png": "[encoded data removed]",
      "text/plain": [
       "<Figure size 360x360 with 6 Axes>"
      ]
     },
     "metadata": {
      "needs_background": "light"
     },
     "output_type": "display_data"
    }
   ],
   "source": [
    "sns.pairplot(df)"
   ]
  },
  {
   "cell_type": "markdown",
   "metadata": {},
   "source": [
    "Here the hours and scores have linear relationship between them."
   ]
  },
  {
   "cell_type": "code",
   "execution_count": 11,
   "metadata": {},
   "outputs": [
    {
     "data": {
      "text/plain": [
       "<AxesSubplot:xlabel='Scores'>"
      ]
     },
     "execution_count": 11,
     "metadata": {},
     "output_type": "execute_result"
    },
    {
     "data": {
      "image/png": "[encoded data removed]",
      "text/plain": [
       "<Figure size 432x288 with 1 Axes>"
      ]
     },
     "metadata": {
      "needs_background": "light"
     },
     "output_type": "display_data"
    }
   ],
   "source": [
    "## checking the distribution of scores weather it is guassian or not\n",
    "sns.distplot(df['Scores'])\n"
   ]
  },
  {
   "cell_type": "markdown",
   "metadata": {},
   "source": [
    "The distribution of our scores is not perfect guassian.But as we have less data it will not affect our performance much.Hence, no applying normalization or scaling."
   ]
  },
  {
   "cell_type": "markdown",
   "metadata": {},
   "source": [
    "## Preparing the data\n",
    "The data contains two variables one is our dependent variable(Hour) and other is independent variable or label(Scores). So we will assign them as their designation."
   ]
  },
  {
   "cell_type": "code",
   "execution_count": 9,
   "metadata": {},
   "outputs": [],
   "source": [
    "## getting location of feature values and target \n",
    "X = df.iloc[:,:-1].values ##all the rows of all columns except the last column as that is our label\n",
    "y = df.iloc[:,1].values   ##the label column with all of its rows"
   ]
  },
  {
   "cell_type": "markdown",
   "metadata": {},
   "source": [
    "Now that we have our attributes and labels, the next step is to split this data into training and test sets. \n",
    "We'll do this by using Scikit-Learn's built-in train_test_split() method:"
   ]
  },
  {
   "cell_type": "code",
   "execution_count": 10,
   "metadata": {},
   "outputs": [],
   "source": [
    "## splitting the data into train and test for checking our model\n",
    "from sklearn.model_selection import train_test_split  \n",
    "x_train, x_valid, y_train, y_valid = train_test_split(X, y, \n",
    "                            test_size=0.2, random_state=0) "
   ]
  },
  {
   "cell_type": "markdown",
   "metadata": {},
   "source": [
    "## creating and training our model\n",
    "We have data for training and testing. Now we will first train our linear regression model on train dataset then will test on test dataset."
   ]
  },
  {
   "cell_type": "code",
   "execution_count": 77,
   "metadata": {},
   "outputs": [
    {
     "name": "stdout",
     "output_type": "stream",
     "text": [
      "Training Completed\n"
     ]
    }
   ],
   "source": [
    "##importing our model and fitting to the training dataset\n",
    "from sklearn.linear_model import LinearRegression\n",
    "lgr = LinearRegression()\n",
    "lgr.fit(x_train,y_train)\n",
    "print('Training Completed')"
   ]
  },
  {
   "cell_type": "code",
   "execution_count": 78,
   "metadata": {},
   "outputs": [
    {
     "data": {
      "image/png": "[encoded data removed]",
      "text/plain": [
       "<Figure size 432x288 with 1 Axes>"
      ]
     },
     "metadata": {
      "needs_background": "light"
     },
     "output_type": "display_data"
    }
   ],
   "source": [
    "# Plotting the regression line\n",
    "line = lgr.coef_*X+lgr.intercept_\n",
    "\n",
    "# Plotting for the test data\n",
    "plt.scatter(X, y)\n",
    "plt.plot(X, line);\n",
    "plt.show()"
   ]
  },
  {
   "cell_type": "markdown",
   "metadata": {},
   "source": [
    "## Making prediction \n",
    "\n",
    "We have trained our model using training dataset. Now we will predict the outputs on test dataset using the trained model."
   ]
  },
  {
   "cell_type": "code",
   "execution_count": 79,
   "metadata": {},
   "outputs": [],
   "source": [
    "##testing the model by making prediction on our test dataset\n",
    "y_prediction = lgr.predict(x_valid)"
   ]
  },
  {
   "cell_type": "markdown",
   "metadata": {},
   "source": [
    "## Performance Evaluating\n",
    "We have predicted the outputs on our test dataset. Now is the time to evaluate the performance of our model using r2_score, mean_squared_error and mean_absolute_error.\n",
    "We will import these metrices from scikit_learn library."
   ]
  },
  {
   "cell_type": "code",
   "execution_count": 81,
   "metadata": {},
   "outputs": [
    {
     "name": "stdout",
     "output_type": "stream",
     "text": [
      "r2_score: 0.9546785947197246\n",
      "mean_squared_error: 21.598769307217456\n",
      "Mean Absolute Error: 4.183859899002982\n"
     ]
    }
   ],
   "source": [
    "from sklearn.metrics import r2_score,mean_squared_error,mean_absolute_error\n",
    "score = r2_score(y_prediction,y_valid)\n",
    "mse = mean_squared_error(y_prediction,y_valid)\n",
    "mae = mean_absolute_error(y_prediction,y_valid)\n",
    "\n",
    "print('r2_score: {}'.format(score))\n",
    "print('mean_squared_error: {}'.format(mse))\n",
    "print('Mean Absolute Error:',mae)"
   ]
  },
  {
   "cell_type": "markdown",
   "metadata": {},
   "source": [
    "We have got the quite good performance using this simple linear regression model."
   ]
  },
  {
   "cell_type": "code",
   "execution_count": 82,
   "metadata": {},
   "outputs": [
    {
     "data": {
      "text/html": [
       "<div>\n",
       "<style scoped>\n",
       "    .dataframe tbody tr th:only-of-type {\n",
       "        vertical-align: middle;\n",
       "    }\n",
       "\n",
       "    .dataframe tbody tr th {\n",
       "        vertical-align: top;\n",
       "    }\n",
       "\n",
       "    .dataframe thead th {\n",
       "        text-align: right;\n",
       "    }\n",
       "</style>\n",
       "<table border=\"1\" class=\"dataframe\">\n",
       "  <thead>\n",
       "    <tr style=\"text-align: right;\">\n",
       "      <th></th>\n",
       "      <th>Actual</th>\n",
       "      <th>Predicted</th>\n",
       "    </tr>\n",
       "  </thead>\n",
       "  <tbody>\n",
       "    <tr>\n",
       "      <th>0</th>\n",
       "      <td>20</td>\n",
       "      <td>16.884145</td>\n",
       "    </tr>\n",
       "    <tr>\n",
       "      <th>1</th>\n",
       "      <td>27</td>\n",
       "      <td>33.732261</td>\n",
       "    </tr>\n",
       "    <tr>\n",
       "      <th>2</th>\n",
       "      <td>69</td>\n",
       "      <td>75.357018</td>\n",
       "    </tr>\n",
       "    <tr>\n",
       "      <th>3</th>\n",
       "      <td>30</td>\n",
       "      <td>26.794801</td>\n",
       "    </tr>\n",
       "    <tr>\n",
       "      <th>4</th>\n",
       "      <td>62</td>\n",
       "      <td>60.491033</td>\n",
       "    </tr>\n",
       "  </tbody>\n",
       "</table>\n",
       "</div>"
      ],
      "text/plain": [
       "   Actual  Predicted\n",
       "0      20  16.884145\n",
       "1      27  33.732261\n",
       "2      69  75.357018\n",
       "3      30  26.794801\n",
       "4      62  60.491033"
      ]
     },
     "execution_count": 82,
     "metadata": {},
     "output_type": "execute_result"
    }
   ],
   "source": [
    "# Comparing Actual vs Predicted after combining them into a dataframe\n",
    "df_label = pd.DataFrame({'Actual': y_valid, 'Predicted': y_prediction})  \n",
    "df_label"
   ]
  },
  {
   "cell_type": "code",
   "execution_count": 83,
   "metadata": {},
   "outputs": [
    {
     "data": {
      "image/png": "[encoded data removed]",
      "text/plain": [
       "<Figure size 432x288 with 1 Axes>"
      ]
     },
     "metadata": {
      "needs_background": "light"
     },
     "output_type": "display_data"
    }
   ],
   "source": [
    "# Plotting the prediction with actual values\n",
    "df_label.plot(x='Actual', y='Predicted',kind = 'bar')  \n",
    "plt.title('Actual vs predicted')  \n",
    "plt.xlabel('Actual scores')  \n",
    "plt.ylabel('Predicted Scores')  \n",
    "plt.show()"
   ]
  },
  {
   "cell_type": "code",
   "execution_count": 84,
   "metadata": {},
   "outputs": [
    {
     "data": {
      "image/png": "[encoded data removed]",
      "text/plain": [
       "<Figure size 1080x576 with 1 Axes>"
      ]
     },
     "metadata": {
      "needs_background": "light"
     },
     "output_type": "display_data"
    }
   ],
   "source": [
    "# We can also visualize comparison result as a bar graph\n",
    "df1 = df_label.head()\n",
    "df1.plot(kind='bar',figsize=(15,8))\n",
    "plt.grid(which='major', linestyle='-', linewidth='0.4', color='black')\n",
    "plt.grid(which='minor', linestyle=':', linewidth='0.4', color='black')\n",
    "plt.show()"
   ]
  },
  {
   "cell_type": "code",
   "execution_count": 85,
   "metadata": {},
   "outputs": [
    {
     "data": {
      "text/plain": [
       "<AxesSubplot:>"
      ]
     },
     "execution_count": 85,
     "metadata": {},
     "output_type": "execute_result"
    },
    {
     "data": {
      "image/png": "[encoded data removed]",
      "text/plain": [
       "<Figure size 432x288 with 1 Axes>"
      ]
     },
     "metadata": {
      "needs_background": "light"
     },
     "output_type": "display_data"
    }
   ],
   "source": [
    "df_label.plot()"
   ]
  },
  {
   "cell_type": "markdown",
   "metadata": {},
   "source": [
    "## Predicting score \n",
    "\n",
    "Now we will be predicting the scores with respect to 9.25 hours of study using our trained model."
   ]
  },
  {
   "cell_type": "code",
   "execution_count": 52,
   "metadata": {},
   "outputs": [
    {
     "name": "stdout",
     "output_type": "stream",
     "text": [
      "hour_studied: [[9.25]]\n",
      "Score_prediced: [93.69173249]\n"
     ]
    }
   ],
   "source": [
    "hour = [[9.25]]\n",
    "pred_score = lgr.predict(hour)\n",
    "print('hour_studied: {}'.format(hour))\n",
    "print('Score_prediced: {}'.format(pred_score))"
   ]
  },
  {
   "cell_type": "markdown",
   "metadata": {},
   "source": [
    "Finally, our hard work paid off! We have studied for 9.25 hours daily and got a good score of 93.69%."
   ]
  },
  {
   "cell_type": "markdown",
   "metadata": {},
   "source": [
    "## Lasso Regularization Model"
   ]
  },
  {
   "cell_type": "code",
   "execution_count": 11,
   "metadata": {},
   "outputs": [
    {
     "data": {
      "text/plain": [
       "Lasso()"
      ]
     },
     "execution_count": 11,
     "metadata": {},
     "output_type": "execute_result"
    }
   ],
   "source": [
    "## Training lasso regularization model\n",
    "from sklearn.linear_model import Lasso \n",
    "lsr = Lasso()\n",
    "lsr.fit(x_train, y_train)"
   ]
  },
  {
   "cell_type": "code",
   "execution_count": 12,
   "metadata": {},
   "outputs": [],
   "source": [
    "# making prediction using lasso\n",
    "lsr_preds = lsr.predict(x_valid)"
   ]
  },
  {
   "cell_type": "code",
   "execution_count": 14,
   "metadata": {},
   "outputs": [
    {
     "data": {
      "text/plain": [
       "(0.9555406456887037, 3.9915771073417106)"
      ]
     },
     "execution_count": 14,
     "metadata": {},
     "output_type": "execute_result"
    }
   ],
   "source": [
    "## Evaluating performance of lasso\n",
    "from sklearn.metrics import r2_score,mean_squared_error,mean_absolute_error\n",
    "r2 = r2_score(lsr_preds, y_valid)\n",
    "mae_lsr = mean_absolute_error(lsr_preds, y_valid)\n",
    "r2, mae_lsr"
   ]
  },
  {
   "cell_type": "code",
   "execution_count": 15,
   "metadata": {},
   "outputs": [
    {
     "name": "stdout",
     "output_type": "stream",
     "text": [
      "hour_studied: [[9.25]]\n",
      "Score_prediced: [93.04269714]\n"
     ]
    }
   ],
   "source": [
    "# making final prediction using lasso\n",
    "hour = [[9.25]]\n",
    "pred_score_lsr = lsr.predict(hour)\n",
    "print('hour_studied: {}'.format(hour))\n",
    "print('Score_prediced: {}'.format(pred_score_lsr))"
   ]
  },
  {
   "cell_type": "code",
   "execution_count": 16,
   "metadata": {},
   "outputs": [
    {
     "data": {
      "text/html": [
       "<div>\n",
       "<style scoped>\n",
       "    .dataframe tbody tr th:only-of-type {\n",
       "        vertical-align: middle;\n",
       "    }\n",
       "\n",
       "    .dataframe tbody tr th {\n",
       "        vertical-align: top;\n",
       "    }\n",
       "\n",
       "    .dataframe thead th {\n",
       "        text-align: right;\n",
       "    }\n",
       "</style>\n",
       "<table border=\"1\" class=\"dataframe\">\n",
       "  <thead>\n",
       "    <tr style=\"text-align: right;\">\n",
       "      <th></th>\n",
       "      <th>Actual</th>\n",
       "      <th>Predicted</th>\n",
       "      <th>Deviation</th>\n",
       "    </tr>\n",
       "  </thead>\n",
       "  <tbody>\n",
       "    <tr>\n",
       "      <th>0</th>\n",
       "      <td>20</td>\n",
       "      <td>17.489479</td>\n",
       "      <td>2.510521</td>\n",
       "    </tr>\n",
       "    <tr>\n",
       "      <th>1</th>\n",
       "      <td>27</td>\n",
       "      <td>34.062443</td>\n",
       "      <td>7.062443</td>\n",
       "    </tr>\n",
       "    <tr>\n",
       "      <th>2</th>\n",
       "      <td>69</td>\n",
       "      <td>75.007413</td>\n",
       "      <td>6.007413</td>\n",
       "    </tr>\n",
       "    <tr>\n",
       "      <th>3</th>\n",
       "      <td>30</td>\n",
       "      <td>27.238282</td>\n",
       "      <td>2.761718</td>\n",
       "    </tr>\n",
       "    <tr>\n",
       "      <th>4</th>\n",
       "      <td>62</td>\n",
       "      <td>60.384210</td>\n",
       "      <td>1.615790</td>\n",
       "    </tr>\n",
       "  </tbody>\n",
       "</table>\n",
       "</div>"
      ],
      "text/plain": [
       "   Actual  Predicted  Deviation\n",
       "0      20  17.489479   2.510521\n",
       "1      27  34.062443   7.062443\n",
       "2      69  75.007413   6.007413\n",
       "3      30  27.238282   2.761718\n",
       "4      62  60.384210   1.615790"
      ]
     },
     "execution_count": 16,
     "metadata": {},
     "output_type": "execute_result"
    }
   ],
   "source": [
    "## Comparing result with actual \n",
    "check=pd.DataFrame({'Actual':y_valid,'Predicted':lsr_preds})\n",
    "check.reset_index(drop=True,inplace=True)\n",
    "check['Deviation']=abs(check['Actual']-check['Predicted'])\n",
    "check"
   ]
  },
  {
   "cell_type": "code",
   "execution_count": 17,
   "metadata": {},
   "outputs": [
    {
     "data": {
      "text/plain": [
       "Text(0.5, 1.0, 'Deviation In Actual v/s Predicted Values(Lasso)')"
      ]
     },
     "execution_count": 17,
     "metadata": {},
     "output_type": "execute_result"
    },
    {
     "data": {
      "image/png": "[encoded data removed]",
      "text/plain": [
       "<Figure size 576x360 with 1 Axes>"
      ]
     },
     "metadata": {
      "needs_background": "light"
     },
     "output_type": "display_data"
    }
   ],
   "source": [
    "## Visualiazing deviation between actual vs predicted values\n",
    "plt.figure(figsize=(8,5))\n",
    "sns.regplot('Predicted','Actual',data=check,line_kws={'color':'green'},scatter_kws={'color':'red'},marker='*')\n",
    "plt.title('Deviation In Actual v/s Predicted Values(Lasso)')"
   ]
  },
  {
   "cell_type": "markdown",
   "metadata": {},
   "source": [
    "## Ridge Regularization Model"
   ]
  },
  {
   "cell_type": "code",
   "execution_count": 65,
   "metadata": {},
   "outputs": [
    {
     "data": {
      "text/plain": [
       "Ridge(alpha=10)"
      ]
     },
     "execution_count": 65,
     "metadata": {},
     "output_type": "execute_result"
    }
   ],
   "source": [
    "## training ridge regularization\n",
    "from sklearn.linear_model import Ridge\n",
    "\n",
    "rgr=Ridge(alpha = 10)\n",
    "rgr.fit(x_train,y_train)"
   ]
  },
  {
   "cell_type": "code",
   "execution_count": 66,
   "metadata": {},
   "outputs": [],
   "source": [
    "## making predictions using ridge\n",
    "rgr_preds = rgr.predict(x_valid)"
   ]
  },
  {
   "cell_type": "code",
   "execution_count": 67,
   "metadata": {},
   "outputs": [
    {
     "data": {
      "text/plain": [
       "(0.952886392949442, 3.3023718255869667)"
      ]
     },
     "execution_count": 67,
     "metadata": {},
     "output_type": "execute_result"
    }
   ],
   "source": [
    "## evaluating ridge\n",
    "from sklearn.metrics import r2_score,mean_squared_error,mean_absolute_error\n",
    "r2_rgr = r2_score(rgr_preds, y_valid)\n",
    "mae_rgr = mean_absolute_error(rgr_preds, y_valid)\n",
    "r2_rgr, mae_rgr"
   ]
  },
  {
   "cell_type": "code",
   "execution_count": 68,
   "metadata": {},
   "outputs": [
    {
     "data": {
      "text/html": [
       "<div>\n",
       "<style scoped>\n",
       "    .dataframe tbody tr th:only-of-type {\n",
       "        vertical-align: middle;\n",
       "    }\n",
       "\n",
       "    .dataframe tbody tr th {\n",
       "        vertical-align: top;\n",
       "    }\n",
       "\n",
       "    .dataframe thead th {\n",
       "        text-align: right;\n",
       "    }\n",
       "</style>\n",
       "<table border=\"1\" class=\"dataframe\">\n",
       "  <thead>\n",
       "    <tr style=\"text-align: right;\">\n",
       "      <th></th>\n",
       "      <th>Actual</th>\n",
       "      <th>Predicted</th>\n",
       "      <th>Deviation</th>\n",
       "    </tr>\n",
       "  </thead>\n",
       "  <tbody>\n",
       "    <tr>\n",
       "      <th>0</th>\n",
       "      <td>20</td>\n",
       "      <td>19.659200</td>\n",
       "      <td>0.340800</td>\n",
       "    </tr>\n",
       "    <tr>\n",
       "      <th>1</th>\n",
       "      <td>27</td>\n",
       "      <td>35.245927</td>\n",
       "      <td>8.245927</td>\n",
       "    </tr>\n",
       "    <tr>\n",
       "      <th>2</th>\n",
       "      <td>69</td>\n",
       "      <td>73.754312</td>\n",
       "      <td>4.754312</td>\n",
       "    </tr>\n",
       "    <tr>\n",
       "      <th>3</th>\n",
       "      <td>30</td>\n",
       "      <td>28.827863</td>\n",
       "      <td>1.172137</td>\n",
       "    </tr>\n",
       "    <tr>\n",
       "      <th>4</th>\n",
       "      <td>62</td>\n",
       "      <td>60.001318</td>\n",
       "      <td>1.998682</td>\n",
       "    </tr>\n",
       "  </tbody>\n",
       "</table>\n",
       "</div>"
      ],
      "text/plain": [
       "   Actual  Predicted  Deviation\n",
       "0      20  19.659200   0.340800\n",
       "1      27  35.245927   8.245927\n",
       "2      69  73.754312   4.754312\n",
       "3      30  28.827863   1.172137\n",
       "4      62  60.001318   1.998682"
      ]
     },
     "execution_count": 68,
     "metadata": {},
     "output_type": "execute_result"
    }
   ],
   "source": [
    "## comparing ridge results with actual label\n",
    "check=pd.DataFrame({'Actual':y_valid,'Predicted':rgr_preds})\n",
    "check.reset_index(drop=True,inplace=True)\n",
    "check['Deviation']=abs(check['Actual']-check['Predicted'])\n",
    "check"
   ]
  },
  {
   "cell_type": "code",
   "execution_count": 70,
   "metadata": {},
   "outputs": [
    {
     "data": {
      "text/plain": [
       "Text(0.5, 1.0, 'Deviation In Actual v/s Predicted Values(Lasso)')"
      ]
     },
     "execution_count": 70,
     "metadata": {},
     "output_type": "execute_result"
    },
    {
     "data": {
      "image/png": "[encoded data removed]",
      "text/plain": [
       "<Figure size 576x360 with 1 Axes>"
      ]
     },
     "metadata": {
      "needs_background": "light"
     },
     "output_type": "display_data"
    }
   ],
   "source": [
    "## visualizing daviation betwwn actual vs predicted labels\n",
    "plt.figure(figsize=(8,5))\n",
    "sns.regplot('Predicted','Actual',data=check,line_kws={'color':'black'},scatter_kws={'color':'blue'},marker='*')\n",
    "plt.title('Deviation In Actual v/s Predicted Values(Ridge)')"
   ]
  },
  {
   "cell_type": "markdown",
   "metadata": {},
   "source": [
    "## Using ElasticNet Model"
   ]
  },
  {
   "cell_type": "code",
   "execution_count": 71,
   "metadata": {},
   "outputs": [
    {
     "data": {
      "text/plain": [
       "ElasticNet(alpha=1)"
      ]
     },
     "execution_count": 71,
     "metadata": {},
     "output_type": "execute_result"
    }
   ],
   "source": [
    "## Training elastic net model\n",
    "from sklearn.linear_model import ElasticNet\n",
    "els_net=ElasticNet(alpha=1)\n",
    "els_net.fit(x_train,y_train)"
   ]
  },
  {
   "cell_type": "code",
   "execution_count": 72,
   "metadata": {},
   "outputs": [],
   "source": [
    "## making prediction using elasticnet\n",
    "els_preds = els_net.predict(x_valid)"
   ]
  },
  {
   "cell_type": "code",
   "execution_count": 73,
   "metadata": {},
   "outputs": [
    {
     "data": {
      "text/plain": [
       "(0.9517688406051784, 3.213428366075715)"
      ]
     },
     "execution_count": 73,
     "metadata": {},
     "output_type": "execute_result"
    }
   ],
   "source": [
    "## evaluating elastic_net\n",
    "from sklearn.metrics import r2_score,mean_squared_error,mean_absolute_error\n",
    "r2_els = r2_score(els_preds, y_valid)\n",
    "mae_els = mean_absolute_error(els_preds, y_valid)\n",
    "r2_els, mae_els"
   ]
  },
  {
   "cell_type": "code",
   "execution_count": 74,
   "metadata": {},
   "outputs": [
    {
     "data": {
      "text/html": [
       "<div>\n",
       "<style scoped>\n",
       "    .dataframe tbody tr th:only-of-type {\n",
       "        vertical-align: middle;\n",
       "    }\n",
       "\n",
       "    .dataframe tbody tr th {\n",
       "        vertical-align: top;\n",
       "    }\n",
       "\n",
       "    .dataframe thead th {\n",
       "        text-align: right;\n",
       "    }\n",
       "</style>\n",
       "<table border=\"1\" class=\"dataframe\">\n",
       "  <thead>\n",
       "    <tr style=\"text-align: right;\">\n",
       "      <th></th>\n",
       "      <th>Actual</th>\n",
       "      <th>Predicted</th>\n",
       "      <th>Deviation</th>\n",
       "    </tr>\n",
       "  </thead>\n",
       "  <tbody>\n",
       "    <tr>\n",
       "      <th>0</th>\n",
       "      <td>20</td>\n",
       "      <td>19.939207</td>\n",
       "      <td>0.060793</td>\n",
       "    </tr>\n",
       "    <tr>\n",
       "      <th>1</th>\n",
       "      <td>27</td>\n",
       "      <td>35.398658</td>\n",
       "      <td>8.398658</td>\n",
       "    </tr>\n",
       "    <tr>\n",
       "      <th>2</th>\n",
       "      <td>69</td>\n",
       "      <td>73.592597</td>\n",
       "      <td>4.592597</td>\n",
       "    </tr>\n",
       "    <tr>\n",
       "      <th>3</th>\n",
       "      <td>30</td>\n",
       "      <td>29.033002</td>\n",
       "      <td>0.966998</td>\n",
       "    </tr>\n",
       "    <tr>\n",
       "      <th>4</th>\n",
       "      <td>62</td>\n",
       "      <td>59.951905</td>\n",
       "      <td>2.048095</td>\n",
       "    </tr>\n",
       "  </tbody>\n",
       "</table>\n",
       "</div>"
      ],
      "text/plain": [
       "   Actual  Predicted  Deviation\n",
       "0      20  19.939207   0.060793\n",
       "1      27  35.398658   8.398658\n",
       "2      69  73.592597   4.592597\n",
       "3      30  29.033002   0.966998\n",
       "4      62  59.951905   2.048095"
      ]
     },
     "execution_count": 74,
     "metadata": {},
     "output_type": "execute_result"
    }
   ],
   "source": [
    "## comapring elastic_net predictions with actual labels\n",
    "check=pd.DataFrame({'Actual':y_valid,'Predicted':els_preds})\n",
    "check['Deviation']=abs(check['Actual']-check['Predicted'])\n",
    "check"
   ]
  },
  {
   "cell_type": "code",
   "execution_count": 76,
   "metadata": {},
   "outputs": [
    {
     "data": {
      "text/plain": [
       "Text(0.5, 1.0, 'Deviation In Actual v/s Predicted Values(ElasticNet)')"
      ]
     },
     "execution_count": 76,
     "metadata": {},
     "output_type": "execute_result"
    },
    {
     "data": {
      "image/png": "[encoded data removed]",
      "text/plain": [
       "<Figure size 576x360 with 1 Axes>"
      ]
     },
     "metadata": {
      "needs_background": "light"
     },
     "output_type": "display_data"
    }
   ],
   "source": [
    "## visualizinng daviation between actual and predicted labels\n",
    "plt.figure(figsize=(8,5))\n",
    "sns.regplot('Predicted','Actual',data=check,line_kws={'color':'blue'},scatter_kws={'color':'red'},marker='*')\n",
    "plt.title('Deviation In Actual v/s Predicted Values(ElasticNet)')"
   ]
  },
  {
   "cell_type": "markdown",
   "metadata": {},
   "source": [
    "## Comparing All Models"
   ]
  },
  {
   "cell_type": "code",
   "execution_count": 86,
   "metadata": {},
   "outputs": [],
   "source": [
    "## Comparing all the models prediction altogether with actual outputs\n",
    "final=pd.DataFrame()\n",
    "errs=[mae_lsr, mae_rgr, mae_els]\n",
    "final['Valid']=y_valid\n",
    "final['LinearRegression']=y_prediction\n",
    "final['Lasso']=lsr_preds\n",
    "final['Ridge']=rgr_preds\n",
    "final['ElasticNet']=els_preds\n"
   ]
  },
  {
   "cell_type": "code",
   "execution_count": 89,
   "metadata": {},
   "outputs": [
    {
     "data": {
      "image/png": "[encoded data removed]",
      "text/plain": [
       "<Figure size 432x288 with 1 Axes>"
      ]
     },
     "metadata": {
      "needs_background": "light"
     },
     "output_type": "display_data"
    },
    {
     "data": {
      "image/png": "[encoded data removed]",
      "text/plain": [
       "<Figure size 432x288 with 1 Axes>"
      ]
     },
     "metadata": {
      "needs_background": "light"
     },
     "output_type": "display_data"
    },
    {
     "data": {
      "image/png": "[encoded data removed]",
      "text/plain": [
       "<Figure size 432x288 with 1 Axes>"
      ]
     },
     "metadata": {
      "needs_background": "light"
     },
     "output_type": "display_data"
    },
    {
     "data": {
      "image/png": "[encoded data removed]",
      "text/plain": [
       "<Figure size 432x288 with 1 Axes>"
      ]
     },
     "metadata": {
      "needs_background": "light"
     },
     "output_type": "display_data"
    }
   ],
   "source": [
    "## plotting all the model's results to see best fitted model\n",
    "N=np.arange(5)\n",
    "plt.bar(N+0.35,y_valid,width=0.35,label='Actual',color='red')\n",
    "plt.bar(N,y_prediction,width=0.35,label='Linear Regression',color='blue')\n",
    "plt.ylabel('Scores')\n",
    "plt.title('Variation In Prediction & Actual Values(Linear Regression Model)\\nMAE: {}\\nR2_SCORE: {}'.format(mae.round(2),score.round(2)))\n",
    "plt.legend(loc='best')\n",
    "plt.show()\n",
    "\n",
    "plt.bar(N+0.35,y_valid,width=0.35,label='Actual',color='orange')\n",
    "plt.bar(N,lsr_preds,width=0.35,label='Lasso',color='blue')\n",
    "plt.title('Variation In Prediction & Actual(Lasso)\\nMAE: {}\\nR2_SCORE: {}'.format(mae_lsr.round(2),r2.round(2)))\n",
    "plt.ylabel('Scores')\n",
    "plt.legend(loc='best')\n",
    "plt.show()\n",
    "\n",
    "\n",
    "plt.bar(N+0.35,y_valid,width=0.35,label='Actual',color='red')\n",
    "plt.bar(N,rgr_preds,width=0.35,label='Ridge', color = 'black')\n",
    "plt.ylabel('Scores')\n",
    "plt.title('Variation In Prediction & Actual Values(Ridge)\\nMAE: {}\\nR2_Score: {}'.format(mae_rgr.round(2),r2_rgr.round(2)))\n",
    "plt.legend(loc='best')\n",
    "plt.show()\n",
    "\n",
    "plt.bar(N+0.35,y_valid,width=0.35,label='Actual',color='red')\n",
    "plt.bar(N,els_preds,width=0.35,label='ElasticNet',color='yellow')\n",
    "plt.ylabel('Scores')\n",
    "plt.title('Variation In Prediction & Actual Values(ElasticNet)\\nMAE: {}\\nR2_SCORE: {}'.format(mae_els.round(2),r2_els.round(2)))\n",
    "plt.legend(loc='best')\n",
    "plt.show()"
   ]
  },
  {
   "cell_type": "markdown",
   "metadata": {},
   "source": [
    "\n",
    "Clearly, Elastic net model is giving the relatively most accurate output with least mean_absolute error. So, We Finalize Model 4!\n",
    "\n"
   ]
  },
  {
   "cell_type": "markdown",
   "metadata": {},
   "source": [
    "## Making Prediction Using Finalized Model "
   ]
  },
  {
   "cell_type": "code",
   "execution_count": 90,
   "metadata": {},
   "outputs": [
    {
     "name": "stdout",
     "output_type": "stream",
     "text": [
      "9.25\n",
      "After studying for 9.25 hours, The Expected Score Should be [90.42]\n"
     ]
    }
   ],
   "source": [
    "n=float(input())\n",
    "result=els_net.predict([[n]])\n",
    "print(\"After studying for {} hours, The Expected Score Should be {}\".format(n,result.round(2)))"
   ]
  },
  {
   "cell_type": "markdown",
   "metadata": {},
   "source": [
    "## Saving the model for future predictions"
   ]
  },
  {
   "cell_type": "code",
   "execution_count": 91,
   "metadata": {},
   "outputs": [],
   "source": [
    "import pickle \n",
    "# Saving model to disk\n",
    "pickle.dump(els_net, open('model.pkl','wb'))  ## writting as model.pkl\n",
    "\n"
   ]
  },
  {
   "cell_type": "code",
   "execution_count": 94,
   "metadata": {},
   "outputs": [
    {
     "name": "stdout",
     "output_type": "stream",
     "text": [
      "[90.41611763]\n"
     ]
    }
   ],
   "source": [
    "# Loading model to compare the results\n",
    "model = pickle.load(open('model.pkl','rb'))   \n",
    "print(model.predict([[9.25]]))  ## making prediction using saved model"
   ]
  },
  {
   "cell_type": "markdown",
   "metadata": {},
   "source": [
    "We have got a decent percentage score after going through diferent-different models."
   ]
  },
  {
   "cell_type": "markdown",
   "metadata": {},
   "source": [
    "# THANKS!"
   ]
  }
 ],
 "metadata": {
  "kernelspec": {
   "display_name": "Python 3",
   "language": "python",
   "name": "python3"
  },
  "language_info": {
   "codemirror_mode": {
    "name": "ipython",
    "version": 3
   },
   "file_extension": ".py",
   "mimetype": "text/x-python",
   "name": "python",
   "nbconvert_exporter": "python",
   "pygments_lexer": "ipython3",
   "version": "3.8.5"
  }
 },
 "nbformat": 4,
 "nbformat_minor": 4
}
